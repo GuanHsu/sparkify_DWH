{
 "cells": [
  {
   "cell_type": "markdown",
   "metadata": {},
   "source": [
    "# Project 3: Sparkify Data Warehouse on AWS  Test DWH ETL "
   ]
  },
  {
   "cell_type": "code",
   "execution_count": 1,
   "metadata": {},
   "outputs": [],
   "source": [
    "from etl import *"
   ]
  },
  {
   "cell_type": "markdown",
   "metadata": {},
   "source": [
    "### Connect to Sparkify DWH Database.  "
   ]
  },
  {
   "cell_type": "code",
   "execution_count": 2,
   "metadata": {},
   "outputs": [
    {
     "name": "stdout",
     "output_type": "stream",
     "text": [
      "Connect Redshift CLuster sparkify-dwhCluster\n",
      "host=sparkify-dwhcluster.cdgmk37ewlxc.us-west-2.redshift.amazonaws.com dbname=sparkify_dwh user=dwhuser password=XXXXX port=5439\n"
     ]
    }
   ],
   "source": [
    "cur, conn = connect_DWH_db ('dwh-sp.cfg')"
   ]
  },
  {
   "cell_type": "markdown",
   "metadata": {},
   "source": [
    "### Drop all tables first then create tables."
   ]
  },
  {
   "cell_type": "code",
   "execution_count": 3,
   "metadata": {},
   "outputs": [],
   "source": [
    "drop_tables(cur, conn)\n",
    "create_tables(cur, conn)"
   ]
  },
  {
   "cell_type": "markdown",
   "metadata": {},
   "source": [
    "### Raw Data Quality Check before loading"
   ]
  },
  {
   "cell_type": "code",
   "execution_count": 4,
   "metadata": {},
   "outputs": [],
   "source": [
    "cur.execute(staging_events_data_check)\n",
    "cur.execute(staging_songs_data_check)"
   ]
  },
  {
   "cell_type": "markdown",
   "metadata": {},
   "source": [
    "### Load All Tables:  First Staging Tables, then Dimensional Tables, and Fact Table. \n",
    "#### The following insert functions are defined in etl.py"
   ]
  },
  {
   "cell_type": "code",
   "execution_count": 5,
   "metadata": {},
   "outputs": [
    {
     "name": "stdout",
     "output_type": "stream",
     "text": [
      "        \n",
      "    COPY     staging_events   \n",
      "    FROM     's3://udacity-dend/log_data'               \n",
      "    IAM_ROLE 'arn:aws:iam::640555552535:role/dwhRole'               \n",
      "    JSON     's3://udacity-dend/log_json_path.json'               \n",
      "\n",
      "    \n",
      "     COPY     staging_songs  \n",
      "     FROM     's3://udacity-dend/song_data'             \n",
      "     IAM_ROLE 'arn:aws:iam::640555552535:role/dwhRole'             \n",
      "     JSON     'auto'\n",
      "\n",
      "CPU times: user 1.19 ms, sys: 4.22 ms, total: 5.41 ms\n",
      "Wall time: 3min 58s\n"
     ]
    }
   ],
   "source": [
    "%%time\n",
    "load_staging_tables(cur, conn)"
   ]
  },
  {
   "cell_type": "code",
   "execution_count": 6,
   "metadata": {},
   "outputs": [
    {
     "name": "stdout",
     "output_type": "stream",
     "text": [
      "insert_artists_table\n",
      "insert_users_table\n",
      "insert_time_table\n",
      "insert_songs_table\n",
      "CPU times: user 2.45 s, sys: 748 ms, total: 3.2 s\n",
      "Wall time: 29min 57s\n"
     ]
    }
   ],
   "source": [
    "%%time\n",
    "\n",
    "insert_dimension_tables (cur, conn)"
   ]
  },
  {
   "cell_type": "code",
   "execution_count": 7,
   "metadata": {},
   "outputs": [
    {
     "name": "stdout",
     "output_type": "stream",
     "text": [
      "CPU times: user 288 ms, sys: 26.9 ms, total: 314 ms\n",
      "Wall time: 1min 15s\n"
     ]
    }
   ],
   "source": [
    "%%time\n",
    "insert_songplay_table (cur, conn)"
   ]
  },
  {
   "cell_type": "markdown",
   "metadata": {},
   "source": [
    "## Run sample queries as test"
   ]
  },
  {
   "cell_type": "code",
   "execution_count": 8,
   "metadata": {},
   "outputs": [
    {
     "name": "stdout",
     "output_type": "stream",
     "text": [
      "(1, 'AR0MWD61187B9B2B12', None, None, '', 'International Noise Conspiracy', 'SOHOZBI12A8C132E3C', 'Smash It Up', 195.39546, 2000)\n",
      "(1, 'ARV1JVD1187B9AD195', 35.91463, -79.05661, 'Chapel Hill, NC', 'Loudon Wainwright III', 'SOINBCU12A6D4F94C0', 'Human Cannonball', 190.48444, 1995)\n",
      "(1, 'ARNLO5S1187B9B80CC', None, None, 'Pasadena, CA', 'Van Halen', 'SOLRYQR12A670215BF', 'Panama (Remastered Album Version)', 209.29261, 0)\n",
      "(1, 'ARBVX4Y1187FB42E5E', None, None, 'Hull, England', 'The Housemartins', 'SOLPPOD12A6701D227', 'Me And The Farmer', 176.79628, 1987)\n",
      "(1, 'AR0L04E1187B9AE90C', None, None, 'Wigan, Lancashire, England', 'The Verve', 'SOXQYSC12A6310E908', 'Bitter Sweet Symphony', 360.25424, 1997)\n",
      "CPU times: user 1.74 ms, sys: 0 ns, total: 1.74 ms\n",
      "Wall time: 62.8 ms\n"
     ]
    }
   ],
   "source": [
    "%%time\n",
    "cur.execute(\"SELECT * FROM staging_songs LIMIT 5\")\n",
    "rows = cur.fetchall()\n",
    "for r in rows: print(r)"
   ]
  },
  {
   "cell_type": "code",
   "execution_count": 9,
   "metadata": {},
   "outputs": [
    {
     "name": "stdout",
     "output_type": "stream",
     "text": [
      "(14896,)\n",
      "CPU times: user 1.47 ms, sys: 366 µs, total: 1.83 ms\n",
      "Wall time: 63.8 ms\n"
     ]
    }
   ],
   "source": [
    "%%time\n",
    "cur.execute(\"SELECT COUNT(*) FROM staging_songs\")\n",
    "rows = cur.fetchall()\n",
    "for r in rows: print(r)"
   ]
  },
  {
   "cell_type": "code",
   "execution_count": 10,
   "metadata": {},
   "outputs": [
    {
     "name": "stdout",
     "output_type": "stream",
     "text": [
      "('Miami Horror', 'Logged In', 'Kate', 'F', 88, 'Harrell', 250.8273, 'paid', 'Lansing-East Lansing, MI', 'PUT', 'NextSong', 1540472624796.0, 293, 'Sometimes', 200, Decimal('1541548876796'), '\"Mozilla/5.0 (X11; Linux x86_64) AppleWebKit/537.36 (KHTML, like Gecko) Chrome/37.0.2062.94 Safari/537.36\"', 97)\n",
      "('The White Stripes', 'Logged In', 'Kate', 'F', 89, 'Harrell', 241.8673, 'paid', 'Lansing-East Lansing, MI', 'PUT', 'NextSong', 1540472624796.0, 293, 'My Doorbell (Album Version)', 200, Decimal('1541549126796'), '\"Mozilla/5.0 (X11; Linux x86_64) AppleWebKit/537.36 (KHTML, like Gecko) Chrome/37.0.2062.94 Safari/537.36\"', 97)\n",
      "('Juan Carmona', 'Logged In', 'Kate', 'F', 90, 'Harrell', 331.44118, 'paid', 'Lansing-East Lansing, MI', 'PUT', 'NextSong', 1540472624796.0, 293, 'Panales de Algodon', 200, Decimal('1541549367796'), '\"Mozilla/5.0 (X11; Linux x86_64) AppleWebKit/537.36 (KHTML, like Gecko) Chrome/37.0.2062.94 Safari/537.36\"', 97)\n",
      "('Alison Krauss / Union Station', 'Logged In', 'Kate', 'F', 91, 'Harrell', 171.04934, 'paid', 'Lansing-East Lansing, MI', 'PUT', 'NextSong', 1540472624796.0, 293, 'Restless', 200, Decimal('1541549698796'), '\"Mozilla/5.0 (X11; Linux x86_64) AppleWebKit/537.36 (KHTML, like Gecko) Chrome/37.0.2062.94 Safari/537.36\"', 97)\n",
      "('Bullet For My Valentine', 'Logged In', 'Kate', 'F', 92, 'Harrell', 235.65016, 'paid', 'Lansing-East Lansing, MI', 'PUT', 'NextSong', 1540472624796.0, 293, 'Begging For Mercy', 200, Decimal('1541549869796'), '\"Mozilla/5.0 (X11; Linux x86_64) AppleWebKit/537.36 (KHTML, like Gecko) Chrome/37.0.2062.94 Safari/537.36\"', 97)\n",
      "CPU times: user 2.75 ms, sys: 0 ns, total: 2.75 ms\n",
      "Wall time: 64.8 ms\n"
     ]
    }
   ],
   "source": [
    "%%time\n",
    "cur.execute(\"SELECT * FROM staging_events LIMIT 5\")\n",
    "rows = cur.fetchall()\n",
    "for r in rows: print(r)"
   ]
  },
  {
   "cell_type": "code",
   "execution_count": 11,
   "metadata": {},
   "outputs": [
    {
     "name": "stdout",
     "output_type": "stream",
     "text": [
      "(8056,)\n",
      "CPU times: user 1.93 ms, sys: 0 ns, total: 1.93 ms\n",
      "Wall time: 61.7 ms\n"
     ]
    }
   ],
   "source": [
    "%%time\n",
    "cur.execute(\"SELECT COUNT(*) FROM staging_events\")\n",
    "rows = cur.fetchall()\n",
    "for r in rows: print(r)"
   ]
  },
  {
   "cell_type": "code",
   "execution_count": 12,
   "metadata": {},
   "outputs": [
    {
     "name": "stdout",
     "output_type": "stream",
     "text": [
      "(97, 'Kate', 'Harrell', 'F', 'paid')\n",
      "(63, 'Ayla', 'Johnson', 'F', 'free')\n",
      "(55, 'Martin', 'Johnson', 'M', 'free')\n",
      "(8, 'Kaylee', 'Summers', 'F', 'free')\n",
      "(52, 'Theodore', 'Smith', 'M', 'free')\n",
      "CPU times: user 2.4 ms, sys: 0 ns, total: 2.4 ms\n",
      "Wall time: 60.2 ms\n"
     ]
    }
   ],
   "source": [
    "%%time\n",
    "cur.execute(\"SELECT * FROM users LIMIT 5\")\n",
    "rows = cur.fetchall()\n",
    "for r in rows: print(r)"
   ]
  },
  {
   "cell_type": "code",
   "execution_count": 13,
   "metadata": {},
   "outputs": [
    {
     "name": "stdout",
     "output_type": "stream",
     "text": [
      "(105,)\n",
      "CPU times: user 1.55 ms, sys: 0 ns, total: 1.55 ms\n",
      "Wall time: 62.1 ms\n"
     ]
    }
   ],
   "source": [
    "%%time\n",
    "cur.execute(\"SELECT COUNT(*) FROM users LIMIT 5\")\n",
    "rows = cur.fetchall()\n",
    "for r in rows: print(r)"
   ]
  },
  {
   "cell_type": "code",
   "execution_count": 14,
   "metadata": {},
   "outputs": [
    {
     "name": "stdout",
     "output_type": "stream",
     "text": [
      "('2018-11-07T00:01:16.796000', 0, 7, 45, 11, 2018, 2)\n",
      "('2018-11-07T00:05:26.796000', 0, 7, 45, 11, 2018, 2)\n",
      "('2018-11-07T00:09:27.796000', 0, 7, 45, 11, 2018, 2)\n",
      "('2018-11-07T00:14:58.796000', 0, 7, 45, 11, 2018, 2)\n",
      "('2018-11-07T00:17:49.796000', 0, 7, 45, 11, 2018, 2)\n",
      "CPU times: user 2.15 ms, sys: 265 µs, total: 2.41 ms\n",
      "Wall time: 62.7 ms\n"
     ]
    }
   ],
   "source": [
    "%%time\n",
    "cur.execute(\"SELECT * FROM time LIMIT 5\")\n",
    "rows = cur.fetchall()\n",
    "for r in rows: print(r)"
   ]
  },
  {
   "cell_type": "code",
   "execution_count": 15,
   "metadata": {},
   "outputs": [
    {
     "name": "stdout",
     "output_type": "stream",
     "text": [
      "(8023,)\n",
      "CPU times: user 0 ns, sys: 1.7 ms, total: 1.7 ms\n",
      "Wall time: 62.3 ms\n"
     ]
    }
   ],
   "source": [
    "%%time\n",
    "cur.execute(\"SELECT COUNT(*) FROM time LIMIT 5\")\n",
    "rows = cur.fetchall()\n",
    "for r in rows: print(r)"
   ]
  },
  {
   "cell_type": "code",
   "execution_count": 16,
   "metadata": {},
   "outputs": [
    {
     "name": "stdout",
     "output_type": "stream",
     "text": [
      "(0, '2018-11-25T16:14:24.796000', 49, 'paid', 'SOBONKR12A58A7A7E0', 'AR5E44Z1187B9A1D74', 923, 'San Francisco-Oakland-Hayward, CA', 'Mozilla/5.0 (Windows NT 5.1; rv:31.0) Gecko/20100101 Firefox/31.0')\n",
      "(8, '2018-11-30T16:51:42.796000', 16, 'paid', 'SOBONKR12A58A7A7E0', 'AR5E44Z1187B9A1D74', 1076, 'Birmingham-Hoover, AL', '\"Mozilla/5.0 (Macintosh; Intel Mac OS X 10_9_4) AppleWebKit/537.77.4 (KHTML, like Gecko) Version/7.0.5 Safari/537.77.4\"')\n",
      "(16, '2018-11-30T13:52:37.796000', 49, 'paid', 'SOBONKR12A58A7A7E0', 'AR5E44Z1187B9A1D74', 1096, 'San Francisco-Oakland-Hayward, CA', 'Mozilla/5.0 (Windows NT 5.1; rv:31.0) Gecko/20100101 Firefox/31.0')\n",
      "(24, '2018-11-24T05:04:53.796000', 88, 'paid', 'SOBONKR12A58A7A7E0', 'AR5E44Z1187B9A1D74', 888, 'Sacramento--Roseville--Arden-Arcade, CA', '\"Mozilla/5.0 (Macintosh; Intel Mac OS X 10_9_4) AppleWebKit/537.36 (KHTML, like Gecko) Chrome/36.0.1985.143 Safari/537.36\"')\n",
      "(32, '2018-11-28T22:56:08.796000', 73, 'paid', 'SOBONKR12A58A7A7E0', 'AR5E44Z1187B9A1D74', 954, 'Tampa-St. Petersburg-Clearwater, FL', '\"Mozilla/5.0 (Macintosh; Intel Mac OS X 10_9_4) AppleWebKit/537.78.2 (KHTML, like Gecko) Version/7.0.6 Safari/537.78.2\"')\n",
      "CPU times: user 1.47 ms, sys: 365 µs, total: 1.84 ms\n",
      "Wall time: 64 ms\n"
     ]
    }
   ],
   "source": [
    "%%time\n",
    "cur.execute(\"SELECT * FROM songplay LIMIT 5\")\n",
    "rows = cur.fetchall()\n",
    "for r in rows: print(r)"
   ]
  },
  {
   "cell_type": "code",
   "execution_count": 17,
   "metadata": {},
   "outputs": [
    {
     "name": "stdout",
     "output_type": "stream",
     "text": [
      "(328,)\n",
      "CPU times: user 0 ns, sys: 1.75 ms, total: 1.75 ms\n",
      "Wall time: 63.6 ms\n"
     ]
    }
   ],
   "source": [
    "%%time\n",
    "cur.execute(\"SELECT COUNT(*) FROM songplay\")\n",
    "rows = cur.fetchall()\n",
    "for r in rows: print(r)"
   ]
  },
  {
   "cell_type": "markdown",
   "metadata": {},
   "source": [
    "## Take down the cluster at the end of tests"
   ]
  },
  {
   "cell_type": "code",
   "execution_count": null,
   "metadata": {},
   "outputs": [],
   "source": [
    "drop_tables(cur, conn)"
   ]
  },
  {
   "cell_type": "code",
   "execution_count": null,
   "metadata": {},
   "outputs": [],
   "source": [
    "import configparser\n",
    "config = configparser.ConfigParser()\n",
    "config.read_file(open('dwh-sp.cfg'))\n",
    "\n",
    "KEY                    = config.get('AWS','KEY')\n",
    "SECRET                 = config.get('AWS','SECRET')\n",
    "\n",
    "DWH_CLUSTER_TYPE       = config.get(\"DWH\",\"DWH_CLUSTER_TYPE\")\n",
    "DWH_NUM_NODES          = config.get(\"DWH\",\"DWH_NUM_NODES\")\n",
    "DWH_NODE_TYPE          = config.get(\"DWH\",\"DWH_NODE_TYPE\")\n",
    "\n",
    "DWH_CLUSTER_IDENTIFIER = config.get(\"DWH\",\"DWH_CLUSTER_IDENTIFIER\")\n",
    "DWH_DB                 = config.get(\"DWH\",\"DWH_DB\")\n",
    "DWH_DB_USER            = config.get(\"DWH\",\"DWH_DB_USER\")\n",
    "DWH_DB_PASSWORD        = config.get(\"DWH\",\"DWH_DB_PASSWORD\")\n",
    "DWH_PORT               = config.get(\"DWH\",\"DWH_PORT\")\n",
    "\n",
    "DWH_IAM_ROLE_NAME      = config.get(\"DWH\", \"DWH_IAM_ROLE_NAME\")\n",
    "\n",
    "(DWH_DB_USER, DWH_DB_PASSWORD, DWH_DB)\n",
    "\n",
    "pd.DataFrame({\"Param\":\n",
    "                  [\"DWH_CLUSTER_TYPE\", \"DWH_NUM_NODES\", \"DWH_NODE_TYPE\", \"DWH_CLUSTER_IDENTIFIER\", \"DWH_DB\", \"DWH_DB_USER\", \"DWH_DB_PASSWORD\", \"DWH_PORT\", \"DWH_IAM_ROLE_NAME\"],\n",
    "              \"Value\":\n",
    "                  [DWH_CLUSTER_TYPE, DWH_NUM_NODES, DWH_NODE_TYPE, DWH_CLUSTER_IDENTIFIER, DWH_DB, DWH_DB_USER, DWH_DB_PASSWORD, DWH_PORT, DWH_IAM_ROLE_NAME]\n",
    "             })"
   ]
  },
  {
   "cell_type": "code",
   "execution_count": null,
   "metadata": {},
   "outputs": [],
   "source": [
    "iam = boto3.client('iam',aws_access_key_id=KEY,\n",
    "                     aws_secret_access_key=SECRET,\n",
    "                     region_name='us-west-2'\n",
    "                  )\n",
    "\n",
    "redshift = boto3.client('redshift',\n",
    "                       region_name=\"us-west-2\",\n",
    "                       aws_access_key_id=KEY,\n",
    "                       aws_secret_access_key=SECRET\n",
    "                       )"
   ]
  },
  {
   "cell_type": "code",
   "execution_count": null,
   "metadata": {},
   "outputs": [],
   "source": [
    "def prettyRedshiftProps(props):\n",
    "    pd.set_option('display.max_colwidth', -1)\n",
    "    keysToShow = [\"ClusterIdentifier\", \"NodeType\", \"ClusterStatus\", \"MasterUsername\", \"DBName\", \"Endpoint\", \"NumberOfNodes\", 'VpcId']\n",
    "    x = [(k, v) for k,v in props.items() if k in keysToShow]\n",
    "    return pd.DataFrame(data=x, columns=[\"Key\", \"Value\"])\n",
    "\n",
    "myClusterProps = redshift.describe_clusters(ClusterIdentifier=DWH_CLUSTER_IDENTIFIER)['Clusters'][0]\n",
    "prettyRedshiftProps(myClusterProps)"
   ]
  },
  {
   "cell_type": "code",
   "execution_count": null,
   "metadata": {},
   "outputs": [],
   "source": [
    "DWH_ENDPOINT = myClusterProps['Endpoint']['Address']\n",
    "DWH_ROLE_ARN = myClusterProps['IamRoles'][0]['IamRoleArn']\n",
    "print(\"DWH_ENDPOINT :: \", DWH_ENDPOINT)\n",
    "print(\"DWH_ROLE_ARN :: \", DWH_ROLE_ARN)"
   ]
  },
  {
   "cell_type": "code",
   "execution_count": null,
   "metadata": {},
   "outputs": [],
   "source": [
    "#### CAREFUL!!\n",
    "#-- Uncomment & run to delete the created resources\n",
    "redshift.delete_cluster( ClusterIdentifier=DWH_CLUSTER_IDENTIFIER,  SkipFinalClusterSnapshot=True)\n",
    "#### CAREFUL!!"
   ]
  },
  {
   "cell_type": "code",
   "execution_count": null,
   "metadata": {},
   "outputs": [],
   "source": [
    "myClusterProps = redshift.describe_clusters(ClusterIdentifier=DWH_CLUSTER_IDENTIFIER)['Clusters'][0]\n",
    "prettyRedshiftProps(myClusterProps)"
   ]
  },
  {
   "cell_type": "code",
   "execution_count": null,
   "metadata": {},
   "outputs": [],
   "source": [
    "myClusterProps = redshift.describe_clusters(ClusterIdentifier=DWH_CLUSTER_IDENTIFIER)['Clusters'][0]\n",
    "prettyRedshiftProps(myClusterProps)"
   ]
  },
  {
   "cell_type": "code",
   "execution_count": null,
   "metadata": {},
   "outputs": [],
   "source": []
  }
 ],
 "metadata": {
  "kernelspec": {
   "display_name": "Python 3",
   "language": "python",
   "name": "python3"
  },
  "language_info": {
   "codemirror_mode": {
    "name": "ipython",
    "version": 3
   },
   "file_extension": ".py",
   "mimetype": "text/x-python",
   "name": "python",
   "nbconvert_exporter": "python",
   "pygments_lexer": "ipython3",
   "version": "3.6.3"
  }
 },
 "nbformat": 4,
 "nbformat_minor": 2
}
